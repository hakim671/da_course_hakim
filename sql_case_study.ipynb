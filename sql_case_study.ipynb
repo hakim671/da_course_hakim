{
 "cells": [
  {
   "cell_type": "code",
   "execution_count": 1,
   "metadata": {},
   "outputs": [],
   "source": [
    "from connector import connect_to\n",
    "import sqlalchemy as db\n",
    "import pandas as pd"
   ]
  },
  {
   "cell_type": "markdown",
   "metadata": {},
   "source": [
    "# Блок 1. Создание схемы и таблиц"
   ]
  },
  {
   "cell_type": "markdown",
   "metadata": {},
   "source": [
    "## Описание задачи\n",
    "1. В базе данных создайте новую схему adv_works.\n",
    "2. На основе данных из файла создайте в схеме adv_works таблицы и соедините их между собою по основным и внешним ключам."
   ]
  },
  {
   "cell_type": "code",
   "execution_count": 2,
   "metadata": {},
   "outputs": [
    {
     "name": "stdout",
     "output_type": "stream",
     "text": [
      "Схема 'adv_works' создана или уже существует.\n"
     ]
    }
   ],
   "source": [
    "def create_schema(schema_name='adv_works'):\n",
    "    connection = connect_to('postgres')\n",
    "    with connection.begin():  \n",
    "        connection.execute(db.text(f\"CREATE SCHEMA IF NOT EXISTS {schema_name}\"))\n",
    "        print(f\"Схема '{schema_name}' создана или уже существует.\")\n",
    "    connection.close()\n",
    "\n",
    "create_schema()"
   ]
  },
  {
   "cell_type": "code",
   "execution_count": 24,
   "metadata": {},
   "outputs": [],
   "source": [
    "df1 = pd.read_excel('adventure_works.xlsx',sheet_name='Customers')\n",
    "df2 = pd.read_excel('adventure_works.xlsx',sheet_name='Products')\n",
    "df3 = pd.read_excel('adventure_works.xlsx',sheet_name='Territory')\n",
    "df4 = pd.read_excel('adventure_works.xlsx',sheet_name='Sales')\n",
    "df5 = pd.read_excel('adventure_works.xlsx',sheet_name='ProductCategory')\n",
    "df6 = pd.read_excel('adventure_works.xlsx',sheet_name='ProductSubCategory')"
   ]
  },
  {
   "cell_type": "code",
   "execution_count": null,
   "metadata": {},
   "outputs": [],
   "source": [
    "with connect_to('postgres') as conn:\n",
    "            df6.to_sql(\n",
    "            name='productsubcategory',\n",
    "            con=conn,\n",
    "            index=False,\n",
    "            if_exists='append',\n",
    "            schema='adv_works' \n",
    "        )"
   ]
  },
  {
   "cell_type": "markdown",
   "metadata": {},
   "source": [
    "# Блок 2. Аналитические задачи"
   ]
  },
  {
   "cell_type": "markdown",
   "metadata": {},
   "source": [
    "### Секция 1. Анализ клиентов"
   ]
  },
  {
   "cell_type": "markdown",
   "metadata": {},
   "source": [
    "Задача 1:\n",
    "Сегментация по доходу: Посчитайте средний годовой личный доход клиентов (YearlyIncome) в разбивке по роду деятельности (Occupation). Итоговая таблица должна содержать следующие поля: occupation, number_of_customers, avg_income."
   ]
  },
  {
   "cell_type": "code",
   "execution_count": 5,
   "metadata": {},
   "outputs": [],
   "source": [
    "with connect_to('postgres') as conn:\n",
    "    df1=pd.read_sql(\"\"\"\n",
    "        select \n",
    "            occupation\n",
    "            , count(*) as number_of_customers\n",
    "            , round(avg(yearlyincome)::numeric, 2) as avg_income\n",
    "        from adv_works.customers  \n",
    "        group by occupation ;\n",
    "\"\"\", conn)"
   ]
  },
  {
   "cell_type": "markdown",
   "metadata": {},
   "source": [
    "Задача 2:\n",
    "Семейный профиль: Посчитайте долю (в процентах) клиентов с детьми и долю клиентов без детей. Итоговая таблица должна содержать следующие поля: has_children (где 1 означает - имеет детей и 0 - не имеет детей), pct_of_customer_base."
   ]
  },
  {
   "cell_type": "code",
   "execution_count": 8,
   "metadata": {},
   "outputs": [],
   "source": [
    "with connect_to('postgres') as conn:\n",
    "    df2=pd.read_sql(\"\"\"\n",
    "        select \n",
    "            case\n",
    "                when numberchildrenathome > 0 then 1 \n",
    "                else 0\n",
    "            end as has_children\n",
    "            , round(count(*) * 100.0 / sum(count(*)) over (), 2) as pct_of_customer_base\n",
    "        from \n",
    "            adv_works.customers\n",
    "        group by \n",
    "            case\n",
    "                when numberchildrenathome > 0 then 1 \n",
    "                else 0\n",
    "            end\n",
    "\"\"\", conn)"
   ]
  },
  {
   "cell_type": "markdown",
   "metadata": {},
   "source": [
    "Задача 3:\n",
    "Высокодоходные клиенты: Сформируйте список топ 10 клиентов с наибольшей суммой покупок (поле SalesAmount). Итоговая таблица должна содержать следующие поля: customer_key, customer_name, total_purchase."
   ]
  },
  {
   "cell_type": "code",
   "execution_count": 11,
   "metadata": {},
   "outputs": [],
   "source": [
    "with connect_to('postgres') as conn:\n",
    "    df3=pd.read_sql(\"\"\"\n",
    "        select\n",
    "            c.customerkey\n",
    "            , c.name\n",
    "            , round(sum(s.salesamount)::numeric, 2) as total_purchase\n",
    "        from adv_works.customers c \n",
    "        left join adv_works.sales s on c.customerkey = s.customerkey\n",
    "        group by c.customerkey\n",
    "        order by total_purchase desc\n",
    "        limit 10;\n",
    "\"\"\", conn)"
   ]
  },
  {
   "cell_type": "markdown",
   "metadata": {},
   "source": [
    "Задача 4:\n",
    "Влияние семейного положения: Посчитайте среднюю сумму продаж в разбивке по семейному положению клиентов (MaritalStatus) и определите насколько сильно различаются средние суммы между двумя группами. Итоговая таблица должна содержать следующие поля: year, marital_status, avg_sales_amount."
   ]
  },
  {
   "cell_type": "code",
   "execution_count": 4,
   "metadata": {},
   "outputs": [],
   "source": [
    "with connect_to('postgres') as conn:\n",
    "    df4=pd.read_sql(\"\"\"\n",
    "        select \n",
    "            extract(year from s.orderdate) as year\n",
    "            , c.maritalstatus\n",
    "            , round(avg(s.salesamount)::numeric, 2) as avg_sales_amount \n",
    "        from adv_works.sales s\n",
    "        left join adv_works.customers c on s.customerkey = c.customerkey\n",
    "        group by c.maritalstatus, year\n",
    "        order by year, c.maritalstatus;\n",
    "\"\"\", conn)"
   ]
  },
  {
   "cell_type": "markdown",
   "metadata": {},
   "source": [
    "### Секция 2. Анализ продаж"
   ]
  },
  {
   "cell_type": "markdown",
   "metadata": {},
   "source": [
    "Задача 1:\n",
    "Ежемесячные продажи: Создайте отчёт продаж по месяцам за последние 2 года (2003, 2004). Итоговая таблица должна содержать следующие поля: year, monthkey, month_name, sales_count (количество продаж), sales_amount."
   ]
  },
  {
   "cell_type": "code",
   "execution_count": 10,
   "metadata": {},
   "outputs": [],
   "source": [
    "with connect_to('postgres') as conn:\n",
    "    df5=pd.read_sql(\"\"\"\n",
    "        select \n",
    "            extract(year from s.orderdate) as year\n",
    "            , extract(month from s.orderdate) as month_key\n",
    "            , to_char(s.orderdate, 'month') as month_name\n",
    "            , count(s.*) as sales_count\n",
    "            , round(sum(s.salesamount)::numeric, 2) as sales_amount\n",
    "        from adv_works.sales s\n",
    "        where extract(year from s.orderdate) in (2003,2004)\n",
    "        group by year, month_key, month_name\n",
    "        order by year, month_key;\n",
    "\"\"\", conn)"
   ]
  },
  {
   "cell_type": "markdown",
   "metadata": {},
   "source": [
    "Задача 2:\n",
    "Продажи по регионам: Посчитайте сумму продаж в разбивке по регионам. Итоговая таблица должна содержать следующие поля: region, sales_count, sales_amount"
   ]
  },
  {
   "cell_type": "code",
   "execution_count": 13,
   "metadata": {},
   "outputs": [],
   "source": [
    "with connect_to('postgres') as conn:\n",
    "    df6=pd.read_sql(\"\"\"\n",
    "        select \n",
    "            t.region \n",
    "            , count(s.*) as sales_count\n",
    "            , round(sum(s.salesamount)::numeric, 2) as sales_amount \n",
    "        from adv_works.sales s\n",
    "        left join adv_works.territory t on s.salesterritorykey = t.territorykey\n",
    "        group by t.region;\n",
    "\"\"\", conn)"
   ]
  },
  {
   "cell_type": "markdown",
   "metadata": {},
   "source": [
    "### Секция 3. Анализ продуктов"
   ]
  },
  {
   "cell_type": "markdown",
   "metadata": {},
   "source": [
    "Задача 1:\n",
    "Доля продаж: Посчитайте какую долю от общих продаж составляет каждая категория продуктов. Итоговая таблица должна содержать следующие поля: year, product_key, product_category_key, english_product_category_name, sales_amount, pct_of_total_sales"
   ]
  },
  {
   "cell_type": "code",
   "execution_count": 16,
   "metadata": {},
   "outputs": [],
   "source": [
    "with connect_to('postgres') as conn:\n",
    "    df7=pd.read_sql(\"\"\"\n",
    "        select \n",
    "            extract(year from s.orderdate) as year\n",
    "            , s.productkey\n",
    "            , p3.productcategorykey\n",
    "            , p3.englishproductcategoryname as english_product_category_name\n",
    "            , round(sum(s.salesamount)::numeric, 2) as sales_amount\n",
    "            , round((100 * sum(s.salesamount) / (select sum(s2.salesamount) from adv_works.sales s2))::numeric, 2) as pct_of_total_sales\n",
    "        from adv_works.sales s \n",
    "        left join adv_works.products p on s.productkey = p.productkey\n",
    "        left join adv_works.productsubcategory p2 on p.productsubcategorykey = p2.productsubcategorykey\n",
    "        left join adv_works.productcategory p3 on p2.productcategorykey = p3.productcategorykey \n",
    "        group by p3.productcategorykey, s.productkey, year\n",
    "        order by year, s.productkey\n",
    "        ;\n",
    "\"\"\", conn)"
   ]
  },
  {
   "cell_type": "markdown",
   "metadata": {},
   "source": [
    "Задача 2:\n",
    "Самые продаваемые продукты: Определите топ 5 продуктов с наибольшей суммой продаж. Итоговая таблица должна содержать следующие поля: product_key, product_name, english_product_category_name, sales_amount"
   ]
  },
  {
   "cell_type": "code",
   "execution_count": 18,
   "metadata": {},
   "outputs": [],
   "source": [
    "with connect_to('postgres') as conn:\n",
    "    df8=pd.read_sql(\"\"\"\n",
    "        select \n",
    "            s.productkey \n",
    "            , p.productname\n",
    "            , p3.englishproductcategoryname \n",
    "            , round(sum(s.salesamount)::numeric, 2) as sales_amount \n",
    "        from adv_works.sales s \n",
    "        left join adv_works.products p on s.productkey = p.productkey\n",
    "        left join adv_works.productsubcategory p2 on p.productsubcategorykey = p2.productsubcategorykey\n",
    "        left join adv_works.productcategory p3 on p2.productcategorykey = p3.productcategorykey\n",
    "        group by s.productkey, p.productname, p3.englishproductcategoryname\t\n",
    "        order by sales_amount desc\n",
    "        limit 5;\n",
    "\"\"\", conn)"
   ]
  },
  {
   "cell_type": "markdown",
   "metadata": {},
   "source": [
    "Задача 3:\n",
    "Маржа от продаж: Посчитайте разницу между суммой продаж (SalesAmount) за минусом себестоимости (TotalProductCost), налогов (*TaxAmt) и расходов на доставку (Freight) по каждому продукту в разбивке по годам и месяцам. Итоговая таблица должна содержать следующие поля: year, monthkey, month_name, product_key, product_name, sales_amount, total_product_cost, tax_amt, freight, margin, margin_pct (маржа как процент от суммы продаж)."
   ]
  },
  {
   "cell_type": "code",
   "execution_count": 3,
   "metadata": {},
   "outputs": [],
   "source": [
    "with connect_to('postgres') as conn:\n",
    "    df9=pd.read_sql(\"\"\"\n",
    "        select \n",
    "            extract(year from s.orderdate) as year\n",
    "            , extract(month from s.orderdate) as month_key\n",
    "            , to_char(s.orderdate, 'month') as month_name\n",
    "            , s.productkey as product_key\n",
    "            , p.productname as product_name\n",
    "            , sum(s.salesamount) as sales_amount\n",
    "            , sum(s.totalproductcost) as total_product_cost\n",
    "            , sum(s.taxamt) as tax_amt\n",
    "            , sum(s.freight) as freight\n",
    "            , round((sum(s.salesamount) - sum(s.totalproductcost) - sum(s.taxamt) - sum(s.freight))::numeric, 2) as margin\n",
    "            , round(((sum(s.salesamount) - sum(s.totalproductcost) - sum(s.taxamt) - sum(s.freight)) * 100 / sum(s.salesamount))::numeric, 2) as margin_pct\n",
    "        from adv_works.sales s\n",
    "        left join adv_works.products p on s.productkey = p.productkey\n",
    "        group by product_key, product_name, year, month_key, month_name\n",
    "        order by product_key, year, month_key, sales_amount;\n",
    "\"\"\", conn)"
   ]
  },
  {
   "cell_type": "markdown",
   "metadata": {},
   "source": [
    "### Секция 4. Анализ трендов"
   ]
  },
  {
   "cell_type": "markdown",
   "metadata": {},
   "source": [
    "Задача 1:\n",
    "Квартальный рост: Посчитайте сумму продаж за каждый квартал и их процентное изменение по топ 2 наиболее продаваемым категориям. Итоговая таблица должна содержать следующие поля: year, quarter_id, product_category_key, english_product_category_name, quarter_sales_amount, quarter_over_quarter_growth_pct."
   ]
  },
  {
   "cell_type": "code",
   "execution_count": 8,
   "metadata": {},
   "outputs": [],
   "source": [
    "with connect_to('postgres') as conn:\n",
    "    df10=pd.read_sql(\"\"\"\n",
    "        with quarterly_sales as (\n",
    "            select \n",
    "                extract(year from s.orderdate) as year,\n",
    "                extract(quarter from s.orderdate) as quarter_id,\n",
    "                pc.productcategorykey as product_category_key,\n",
    "                pc.englishproductcategoryname as english_product_category_name,\n",
    "                sum(s.salesamount) as quarter_sales_amount\n",
    "            from \n",
    "                adv_works.sales s\n",
    "            left join \n",
    "                adv_works.products p on s.productkey = p.productkey\n",
    "            left join \n",
    "                adv_works.productsubcategory ps on p.productsubcategorykey = ps.productsubcategorykey\n",
    "            left join \n",
    "                adv_works.productcategory pc on ps.productcategorykey = pc.productcategorykey\n",
    "            group by \n",
    "                year, quarter_id, product_category_key, english_product_category_name\n",
    "        ),\n",
    "        top_categories as (\n",
    "            select \n",
    "                product_category_key,\n",
    "                english_product_category_name,\n",
    "                sum(quarter_sales_amount) as total_sales\n",
    "            from \n",
    "                quarterly_sales\n",
    "            group by \n",
    "                product_category_key, english_product_category_name\n",
    "            order by \n",
    "                total_sales desc\n",
    "            limit 2\n",
    "        ),\n",
    "        quarterly_growth as (\n",
    "            select \n",
    "                qs.year,\n",
    "                qs.quarter_id,\n",
    "                qs.product_category_key,\n",
    "                qs.english_product_category_name,\n",
    "                qs.quarter_sales_amount,\n",
    "                lag(qs.quarter_sales_amount) over (\n",
    "                    partition by qs.product_category_key\n",
    "                    order by qs.year, qs.quarter_id\n",
    "                ) as previous_quarter_sales\n",
    "            from \n",
    "                quarterly_sales qs\n",
    "            join \n",
    "                top_categories tc on qs.product_category_key = tc.product_category_key\n",
    "        )\n",
    "        select \n",
    "            year,\n",
    "            quarter_id,\n",
    "            product_category_key,\n",
    "            english_product_category_name,\n",
    "            quarter_sales_amount,\n",
    "            round((((quarter_sales_amount - previous_quarter_sales) / previous_quarter_sales) * 100)::numeric, 2) as quarter_over_quarter_growth_pct\n",
    "        from \n",
    "            quarterly_growth\n",
    "        order by \n",
    "            year, quarter_id, product_category_key;\n",
    "\"\"\", conn)"
   ]
  },
  {
   "cell_type": "markdown",
   "metadata": {},
   "source": [
    "Задача 2:\n",
    "Сравнение будних и выходных (суббота, воскресенье) дней: Посчитайте продажи в разбивке по годам и дням недели. Определите в какие дни в среднем сумма продаж больше. Определите является ли сумма продаж больше в будние или выходные дни. Итоговая таблица должна содержать следующие поля: year, day_name, is_weekend (где 1 означает выходной а 0 будний день), sales_amount.\n"
   ]
  },
  {
   "cell_type": "code",
   "execution_count": 14,
   "metadata": {},
   "outputs": [],
   "source": [
    "with connect_to('postgres') as conn:\n",
    "    df11=pd.read_sql(\"\"\"\n",
    "        select \n",
    "            extract(year from s.orderdate) as year,\n",
    "            to_char(s.orderdate, 'Day') as day_name,\n",
    "            case \n",
    "                when extract(dow from s.orderdate) in (6, 0) then 1 -- 6 = Saturday, 0 = Sunday\n",
    "                else 0 \n",
    "            end as is_weekend,\n",
    "            sum(s.salesamount) as sales_amount\n",
    "        from \n",
    "            adv_works.sales s\n",
    "        group by \n",
    "            year,\n",
    "            day_name,\n",
    "            is_weekend\n",
    "        order by \n",
    "            year, is_weekend desc, day_name;\n",
    "\"\"\", conn)"
   ]
  },
  {
   "cell_type": "code",
   "execution_count": null,
   "metadata": {},
   "outputs": [],
   "source": []
  },
  {
   "cell_type": "code",
   "execution_count": null,
   "metadata": {},
   "outputs": [],
   "source": []
  }
 ],
 "metadata": {
  "kernelspec": {
   "display_name": ".venv",
   "language": "python",
   "name": "python3"
  },
  "language_info": {
   "codemirror_mode": {
    "name": "ipython",
    "version": 3
   },
   "file_extension": ".py",
   "mimetype": "text/x-python",
   "name": "python",
   "nbconvert_exporter": "python",
   "pygments_lexer": "ipython3",
   "version": "3.12.3"
  }
 },
 "nbformat": 4,
 "nbformat_minor": 2
}
